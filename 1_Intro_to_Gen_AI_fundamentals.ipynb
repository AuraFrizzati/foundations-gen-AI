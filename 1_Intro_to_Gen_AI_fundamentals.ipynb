{
  "nbformat": 4,
  "nbformat_minor": 0,
  "metadata": {
    "colab": {
      "provenance": [],
      "authorship_tag": "ABX9TyMIQeazONsErn37t7KQo8cO",
      "include_colab_link": true
    },
    "kernelspec": {
      "name": "python3",
      "display_name": "Python 3"
    },
    "language_info": {
      "name": "python"
    }
  },
  "cells": [
    {
      "cell_type": "markdown",
      "metadata": {
        "id": "view-in-github",
        "colab_type": "text"
      },
      "source": [
        "<a href=\"https://colab.research.google.com/github/AuraFrizzati/foundations-gen-AI/blob/main/1_Intro_to_Gen_AI_fundamentals.ipynb\" target=\"_parent\"><img src=\"https://colab.research.google.com/assets/colab-badge.svg\" alt=\"Open In Colab\"/></a>"
      ]
    },
    {
      "cell_type": "markdown",
      "source": [
        "# **1: Intro to Generative AI Fundamentals**"
      ],
      "metadata": {
        "id": "jH0R02OhZTKM"
      }
    },
    {
      "cell_type": "markdown",
      "source": [
        "Generative AI (Gen AI) is an exciting frontier in technology where machines are empowered to create, shaping the future of human-machine interaction. This innovative tool is transforming fields left and right, offering quick and efficient solutions to complex problems with its ability to generate new designs and ideas.\n",
        "\n",
        "**Lesson Objectives**.\n",
        "\n",
        "By the end of this lesson, you will be able to:\n",
        "\n",
        "- **Identify industry applications**, **trends**, and **opportunities** of Generative AI\n",
        "- **Contextualize Generative AI** within the broader history and landscape of machine learning and artificial intelligence\n",
        "- Describe the **general process** that popular **Generative AI models use** to **generate outputs**"
      ],
      "metadata": {
        "id": "uaymp3LNaV5E"
      }
    },
    {
      "cell_type": "markdown",
      "source": [
        "## **1.1 What Is Generative AI**\n",
        "\n",
        "Generative AI is an exciting field of artificial intelligence that opens the door to creating new and original content, spanning from written text to stunning visuals and even computer-generated music. It showcases the innovative side of AI by going beyond simple analytical tasks to engage in creative processes.\n",
        "\n",
        "There are **several types of gen AI** that are already used today:\n",
        "\n",
        "1. **Text Generation**: it involves using advanced algorithms to generate coherent and contextually relevant text (e.g. chatbots, automated content creation)\n",
        "\n",
        "2. **Image Generation**: computers can create realistic and visually stunning images. It enables us to generate new images or modify existing ones\n",
        "\n",
        "3. **Code generation**: it automates the process of writing code, saving time and effort for developers and allowing them to focus on higher-level tasks an innovation\n",
        "\n",
        "4. **Audio generation**: it involves creating sound or music using algorithms. From generating background music for videos to creating unique sound effects. This technology can also be used in voice synthesis"
      ],
      "metadata": {
        "id": "mZSA6_ahaV1s"
      }
    },
    {
      "cell_type": "markdown",
      "source": [
        "Once we start discussing tools for code generation, it's natural to wonder about whether AI will replace human jobs. As a developer and a musician, I find that these tools can be very helpful and I also worry about them. The important thing to remember is that the future impact of AI is still undetermined, and we all can play a part in ensuring that it is used responsibly."
      ],
      "metadata": {
        "id": "pOFYn7HzaVyy"
      }
    },
    {
      "cell_type": "markdown",
      "source": [
        "## **1.2: Applications of Gen AI**\n",
        "\n",
        "The applications of Generative AI span a gamut of exciting fields, broadening creativity and innovation in **content creation**, **product design**, **scientific inquiry**, **data enhancement**, and **personalized experiences**. The power of Generative AI lies in its ability to imagine and refine with speed, offering solutions and opening doors to future inventions.\n",
        "\n",
        "\n"
      ],
      "metadata": {
        "id": "gSczAs27fc4a"
      }
    },
    {
      "cell_type": "markdown",
      "source": [
        "### **Creative content generation**\n",
        "\n",
        "- **Artwork synthesis**: Using Gen AI to craft unique visual art pieces\n",
        "\n",
        "- **Music Composition**: Harnessing AI algorithms to compose original music pieces\n",
        "\n",
        "- **Literary Creation**: Application of AI in generating written content"
      ],
      "metadata": {
        "id": "fYfTUHM6fc1E"
      }
    },
    {
      "cell_type": "markdown",
      "source": [
        "### **Product Development**\n",
        "\n",
        "- **Design Optimisation**: refine and enhance existing designs (e.g. better functionality and/or aesthetics)\n",
        "  - https://www.audi-mediacenter.com/en/press-releases/reinventing-the-wheel-felgan-inspires-new-rim-designs-with-ai-15097\n",
        "\n",
        "- **Rapid Prototyping**: conceptualisation and visualisation of new product ideas. This speeds up the initial phases of production\n",
        "\n",
        "- **Material Exploration**: predict and explore new materials or combinations of materials that can be used in product manufacturing\n",
        "  - https://deepmind.google/discover/blog/millions-of-new-materials-discovered-with-deep-learning/"
      ],
      "metadata": {
        "id": "dD3vNZXkfcfB"
      }
    },
    {
      "cell_type": "markdown",
      "source": [
        "### **Scientific Research**\n",
        "\n",
        "- **Experiment Simulation**: physical testing not required\n",
        "\n",
        "- **Data Analysis & Prediction**: analyse, predict and uncover patterns\n",
        "\n",
        "- **Molecular Discovery**: design new molecules compounds (e.g. for drug discovery or material science)\n",
        "\n",
        "https://www.sciencedirect.com/science/article/pii/S2949882123000063"
      ],
      "metadata": {
        "id": "nJV3_TSiiOBt"
      }
    },
    {
      "cell_type": "markdown",
      "source": [
        "### **Data Augmentation**\n",
        "\n",
        "- **Image Enhancement**: generating new variations, enhancing and expanding image datastes. This is especially usefu in training machine learning models\n",
        "\n",
        "- **Text Augmentation**: diverse text data to enrich existing text datasets, aiding and improving the robustness of NLP systems\n",
        "\n",
        "- **Synthetic Data Creation**: craft new datasets from scratch. This is especially useful in industries where preserving customer privacy is paramount.\n",
        "\n"
      ],
      "metadata": {
        "id": "uiWtuz0cmyJh"
      }
    },
    {
      "cell_type": "markdown",
      "source": [
        "### **Personalisation**\n",
        "\n",
        "- **Content Recommendation**: based on preferences and behaviour. This is tailoring content for users based on their preferences and behaviour\n",
        "\n",
        "- **Bespoke Product Creation**: tailored to individual specs (e.g. customised clothing)\n",
        "\n",
        "\n",
        "- **Experience Customisation**: suit individual user preferences and needs (e.g. adapting user interfaces, virtual worlds or digital experiences)"
      ],
      "metadata": {
        "id": "FG1xszEwmyGR"
      }
    },
    {
      "cell_type": "markdown",
      "source": [
        "## **1.3: AI and Machine Learning Timeline**\n",
        "\n",
        "The AI and machine learning timeline is a **journey of technological breakthroughs** starting with early advances like the **perceptron** in the **1950s**, and moving through various challenges and innovations that have led to **recent breakthroughs** in **generative AI**. This timeline shows us the perseverance and ingenuity involved in the evolution of AI, highlighting how each decade built upon the last to reach today's exciting capabilities.\n",
        "\n"
      ],
      "metadata": {
        "id": "j9vNwOE1myCE"
      }
    },
    {
      "cell_type": "code",
      "source": [],
      "metadata": {
        "id": "S9u91eTeRalH"
      },
      "execution_count": null,
      "outputs": []
    }
  ]
}